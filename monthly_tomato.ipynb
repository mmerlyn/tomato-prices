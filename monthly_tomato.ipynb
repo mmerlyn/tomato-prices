{
 "cells": [
  {
   "cell_type": "code",
   "execution_count": 1,
   "metadata": {},
   "outputs": [],
   "source": [
    "import numpy as np\n",
    "import pandas as pd\n",
    "import seaborn as sns\n",
    "import matplotlib.pyplot as plt\n",
    "\n",
    "from datetime import datetime as dt\n",
    "import dateutil"
   ]
  },
  {
   "cell_type": "code",
   "execution_count": 2,
   "metadata": {},
   "outputs": [],
   "source": [
    "from sklearn import preprocessing\n",
    "# Converting categorical data to numeric form\n",
    "le = preprocessing.LabelEncoder()"
   ]
  },
  {
   "cell_type": "code",
   "execution_count": 3,
   "metadata": {},
   "outputs": [],
   "source": [
    "tomato_data = pd.read_csv(\"monthly_tomato.csv\",\n",
    "                          names= ['Date','Market Area','Tonnes','Minimum Price(Rs./Quintal)','Maximum Price(Rs./Quintal)'\n",
    "                                  ,'Modal Price(Rs./Quintal)','Max_avg','Min_avg'],\n",
    "                          skiprows = 1,\n",
    "                          sep = ',', engine = 'python'\n",
    "                       )"
   ]
  },
  {
   "cell_type": "code",
   "execution_count": 4,
   "metadata": {},
   "outputs": [
    {
     "data": {
      "text/html": [
       "<div>\n",
       "<style scoped>\n",
       "    .dataframe tbody tr th:only-of-type {\n",
       "        vertical-align: middle;\n",
       "    }\n",
       "\n",
       "    .dataframe tbody tr th {\n",
       "        vertical-align: top;\n",
       "    }\n",
       "\n",
       "    .dataframe thead th {\n",
       "        text-align: right;\n",
       "    }\n",
       "</style>\n",
       "<table border=\"1\" class=\"dataframe\">\n",
       "  <thead>\n",
       "    <tr style=\"text-align: right;\">\n",
       "      <th></th>\n",
       "      <th>Date</th>\n",
       "      <th>Market Area</th>\n",
       "      <th>Tonnes</th>\n",
       "      <th>Minimum Price(Rs./Quintal)</th>\n",
       "      <th>Maximum Price(Rs./Quintal)</th>\n",
       "      <th>Modal Price(Rs./Quintal)</th>\n",
       "      <th>Max_avg</th>\n",
       "      <th>Min_avg</th>\n",
       "    </tr>\n",
       "  </thead>\n",
       "  <tbody>\n",
       "    <tr>\n",
       "      <th>0</th>\n",
       "      <td>December</td>\n",
       "      <td>0</td>\n",
       "      <td>2.000000</td>\n",
       "      <td>500.0000</td>\n",
       "      <td>500.000000</td>\n",
       "      <td>500.000000</td>\n",
       "      <td>1375.000000</td>\n",
       "      <td>1375.000000</td>\n",
       "    </tr>\n",
       "    <tr>\n",
       "      <th>1</th>\n",
       "      <td>February</td>\n",
       "      <td>0</td>\n",
       "      <td>7.000000</td>\n",
       "      <td>1000.0000</td>\n",
       "      <td>1000.000000</td>\n",
       "      <td>1000.000000</td>\n",
       "      <td>1375.000000</td>\n",
       "      <td>1375.000000</td>\n",
       "    </tr>\n",
       "    <tr>\n",
       "      <th>2</th>\n",
       "      <td>July</td>\n",
       "      <td>0</td>\n",
       "      <td>4.666667</td>\n",
       "      <td>1000.0000</td>\n",
       "      <td>1000.000000</td>\n",
       "      <td>1000.000000</td>\n",
       "      <td>1375.000000</td>\n",
       "      <td>1375.000000</td>\n",
       "    </tr>\n",
       "    <tr>\n",
       "      <th>3</th>\n",
       "      <td>June</td>\n",
       "      <td>0</td>\n",
       "      <td>1.000000</td>\n",
       "      <td>3000.0000</td>\n",
       "      <td>3000.000000</td>\n",
       "      <td>3000.000000</td>\n",
       "      <td>1375.000000</td>\n",
       "      <td>1375.000000</td>\n",
       "    </tr>\n",
       "    <tr>\n",
       "      <th>4</th>\n",
       "      <td>April</td>\n",
       "      <td>1</td>\n",
       "      <td>15.354167</td>\n",
       "      <td>526.3125</td>\n",
       "      <td>982.416667</td>\n",
       "      <td>810.479167</td>\n",
       "      <td>1191.507048</td>\n",
       "      <td>580.853573</td>\n",
       "    </tr>\n",
       "  </tbody>\n",
       "</table>\n",
       "</div>"
      ],
      "text/plain": [
       "       Date  Market Area     Tonnes  Minimum Price(Rs./Quintal)  \\\n",
       "0  December            0   2.000000                    500.0000   \n",
       "1  February            0   7.000000                   1000.0000   \n",
       "2      July            0   4.666667                   1000.0000   \n",
       "3      June            0   1.000000                   3000.0000   \n",
       "4     April            1  15.354167                    526.3125   \n",
       "\n",
       "   Maximum Price(Rs./Quintal)  Modal Price(Rs./Quintal)      Max_avg  \\\n",
       "0                  500.000000                500.000000  1375.000000   \n",
       "1                 1000.000000               1000.000000  1375.000000   \n",
       "2                 1000.000000               1000.000000  1375.000000   \n",
       "3                 3000.000000               3000.000000  1375.000000   \n",
       "4                  982.416667                810.479167  1191.507048   \n",
       "\n",
       "       Min_avg  \n",
       "0  1375.000000  \n",
       "1  1375.000000  \n",
       "2  1375.000000  \n",
       "3  1375.000000  \n",
       "4   580.853573  "
      ]
     },
     "execution_count": 4,
     "metadata": {},
     "output_type": "execute_result"
    }
   ],
   "source": [
    "ml_tomato_data = tomato_data\n",
    "tomato_data.head()"
   ]
  },
  {
   "cell_type": "code",
   "execution_count": 5,
   "metadata": {},
   "outputs": [
    {
     "data": {
      "text/html": [
       "<div>\n",
       "<style scoped>\n",
       "    .dataframe tbody tr th:only-of-type {\n",
       "        vertical-align: middle;\n",
       "    }\n",
       "\n",
       "    .dataframe tbody tr th {\n",
       "        vertical-align: top;\n",
       "    }\n",
       "\n",
       "    .dataframe thead th {\n",
       "        text-align: right;\n",
       "    }\n",
       "</style>\n",
       "<table border=\"1\" class=\"dataframe\">\n",
       "  <thead>\n",
       "    <tr style=\"text-align: right;\">\n",
       "      <th></th>\n",
       "      <th>Date</th>\n",
       "      <th>Market Area</th>\n",
       "      <th>Tonnes</th>\n",
       "      <th>Minimum Price(Rs./Quintal)</th>\n",
       "      <th>Maximum Price(Rs./Quintal)</th>\n",
       "      <th>Modal Price(Rs./Quintal)</th>\n",
       "      <th>Max_avg</th>\n",
       "      <th>Min_avg</th>\n",
       "    </tr>\n",
       "  </thead>\n",
       "  <tbody>\n",
       "    <tr>\n",
       "      <th>0</th>\n",
       "      <td>2</td>\n",
       "      <td>0</td>\n",
       "      <td>2.000000</td>\n",
       "      <td>500.0000</td>\n",
       "      <td>500.000000</td>\n",
       "      <td>500.000000</td>\n",
       "      <td>1375.000000</td>\n",
       "      <td>1375.000000</td>\n",
       "    </tr>\n",
       "    <tr>\n",
       "      <th>1</th>\n",
       "      <td>3</td>\n",
       "      <td>0</td>\n",
       "      <td>7.000000</td>\n",
       "      <td>1000.0000</td>\n",
       "      <td>1000.000000</td>\n",
       "      <td>1000.000000</td>\n",
       "      <td>1375.000000</td>\n",
       "      <td>1375.000000</td>\n",
       "    </tr>\n",
       "    <tr>\n",
       "      <th>2</th>\n",
       "      <td>5</td>\n",
       "      <td>0</td>\n",
       "      <td>4.666667</td>\n",
       "      <td>1000.0000</td>\n",
       "      <td>1000.000000</td>\n",
       "      <td>1000.000000</td>\n",
       "      <td>1375.000000</td>\n",
       "      <td>1375.000000</td>\n",
       "    </tr>\n",
       "    <tr>\n",
       "      <th>3</th>\n",
       "      <td>6</td>\n",
       "      <td>0</td>\n",
       "      <td>1.000000</td>\n",
       "      <td>3000.0000</td>\n",
       "      <td>3000.000000</td>\n",
       "      <td>3000.000000</td>\n",
       "      <td>1375.000000</td>\n",
       "      <td>1375.000000</td>\n",
       "    </tr>\n",
       "    <tr>\n",
       "      <th>4</th>\n",
       "      <td>0</td>\n",
       "      <td>1</td>\n",
       "      <td>15.354167</td>\n",
       "      <td>526.3125</td>\n",
       "      <td>982.416667</td>\n",
       "      <td>810.479167</td>\n",
       "      <td>1191.507048</td>\n",
       "      <td>580.853573</td>\n",
       "    </tr>\n",
       "  </tbody>\n",
       "</table>\n",
       "</div>"
      ],
      "text/plain": [
       "   Date  Market Area     Tonnes  Minimum Price(Rs./Quintal)  \\\n",
       "0     2            0   2.000000                    500.0000   \n",
       "1     3            0   7.000000                   1000.0000   \n",
       "2     5            0   4.666667                   1000.0000   \n",
       "3     6            0   1.000000                   3000.0000   \n",
       "4     0            1  15.354167                    526.3125   \n",
       "\n",
       "   Maximum Price(Rs./Quintal)  Modal Price(Rs./Quintal)      Max_avg  \\\n",
       "0                  500.000000                500.000000  1375.000000   \n",
       "1                 1000.000000               1000.000000  1375.000000   \n",
       "2                 1000.000000               1000.000000  1375.000000   \n",
       "3                 3000.000000               3000.000000  1375.000000   \n",
       "4                  982.416667                810.479167  1191.507048   \n",
       "\n",
       "       Min_avg  \n",
       "0  1375.000000  \n",
       "1  1375.000000  \n",
       "2  1375.000000  \n",
       "3  1375.000000  \n",
       "4   580.853573  "
      ]
     },
     "execution_count": 5,
     "metadata": {},
     "output_type": "execute_result"
    }
   ],
   "source": [
    "ml_tomato_data['Date'] = le.fit_transform(tomato_data['Date'].astype(str))\n",
    "ml_tomato_data.head()"
   ]
  },
  {
   "cell_type": "code",
   "execution_count": 6,
   "metadata": {},
   "outputs": [
    {
     "data": {
      "text/plain": [
       "array([ 0,  1,  2,  3,  4,  5,  6,  7,  8,  9, 10, 11], dtype=int64)"
      ]
     },
     "execution_count": 6,
     "metadata": {},
     "output_type": "execute_result"
    }
   ],
   "source": [
    "months = np.array(ml_tomato_data['Date'])\n",
    "np.unique(months)"
   ]
  },
  {
   "cell_type": "code",
   "execution_count": 7,
   "metadata": {},
   "outputs": [
    {
     "data": {
      "text/plain": [
       "['April',\n",
       " 'August',\n",
       " 'December',\n",
       " 'February',\n",
       " 'January',\n",
       " 'July',\n",
       " 'June',\n",
       " 'March',\n",
       " 'May',\n",
       " 'November',\n",
       " 'October',\n",
       " 'September']"
      ]
     },
     "execution_count": 7,
     "metadata": {},
     "output_type": "execute_result"
    }
   ],
   "source": [
    "list(le.classes_)"
   ]
  },
  {
   "cell_type": "code",
   "execution_count": 8,
   "metadata": {},
   "outputs": [],
   "source": [
    "from sklearn.model_selection import train_test_split\n",
    "\n",
    "X = ml_tomato_data.drop(['Modal Price(Rs./Quintal)','Minimum Price(Rs./Quintal)','Maximum Price(Rs./Quintal)' ], axis=1)\n",
    "\n",
    "y = ml_tomato_data['Modal Price(Rs./Quintal)']\n",
    "params = {'n_estimators':1000, 'max_depth': 5, 'min_samples_split':10# 66/40\n",
    "          , 'learning_rate': 0.05, 'loss': 'lad'}\n",
    "X_train, X_test, y_train, y_test = train_test_split(X, y, test_size=0.3, random_state=0)"
   ]
  },
  {
   "cell_type": "code",
   "execution_count": 9,
   "metadata": {},
   "outputs": [
    {
     "data": {
      "text/html": [
       "<div>\n",
       "<style scoped>\n",
       "    .dataframe tbody tr th:only-of-type {\n",
       "        vertical-align: middle;\n",
       "    }\n",
       "\n",
       "    .dataframe tbody tr th {\n",
       "        vertical-align: top;\n",
       "    }\n",
       "\n",
       "    .dataframe thead th {\n",
       "        text-align: right;\n",
       "    }\n",
       "</style>\n",
       "<table border=\"1\" class=\"dataframe\">\n",
       "  <thead>\n",
       "    <tr style=\"text-align: right;\">\n",
       "      <th></th>\n",
       "      <th>Date</th>\n",
       "      <th>Market Area</th>\n",
       "      <th>Tonnes</th>\n",
       "      <th>Max_avg</th>\n",
       "      <th>Min_avg</th>\n",
       "    </tr>\n",
       "  </thead>\n",
       "  <tbody>\n",
       "    <tr>\n",
       "      <th>281</th>\n",
       "      <td>10</td>\n",
       "      <td>30</td>\n",
       "      <td>253.301887</td>\n",
       "      <td>1703.376600</td>\n",
       "      <td>1379.153607</td>\n",
       "    </tr>\n",
       "    <tr>\n",
       "      <th>274</th>\n",
       "      <td>3</td>\n",
       "      <td>30</td>\n",
       "      <td>290.448276</td>\n",
       "      <td>1703.376600</td>\n",
       "      <td>1379.153607</td>\n",
       "    </tr>\n",
       "    <tr>\n",
       "      <th>175</th>\n",
       "      <td>6</td>\n",
       "      <td>17</td>\n",
       "      <td>4.166667</td>\n",
       "      <td>1282.650171</td>\n",
       "      <td>1043.494398</td>\n",
       "    </tr>\n",
       "    <tr>\n",
       "      <th>295</th>\n",
       "      <td>0</td>\n",
       "      <td>32</td>\n",
       "      <td>7.655738</td>\n",
       "      <td>1759.482255</td>\n",
       "      <td>1421.193658</td>\n",
       "    </tr>\n",
       "    <tr>\n",
       "      <th>146</th>\n",
       "      <td>6</td>\n",
       "      <td>13</td>\n",
       "      <td>41.200000</td>\n",
       "      <td>926.847724</td>\n",
       "      <td>757.938722</td>\n",
       "    </tr>\n",
       "  </tbody>\n",
       "</table>\n",
       "</div>"
      ],
      "text/plain": [
       "     Date  Market Area      Tonnes      Max_avg      Min_avg\n",
       "281    10           30  253.301887  1703.376600  1379.153607\n",
       "274     3           30  290.448276  1703.376600  1379.153607\n",
       "175     6           17    4.166667  1282.650171  1043.494398\n",
       "295     0           32    7.655738  1759.482255  1421.193658\n",
       "146     6           13   41.200000   926.847724   757.938722"
      ]
     },
     "execution_count": 9,
     "metadata": {},
     "output_type": "execute_result"
    }
   ],
   "source": [
    "X_train.head()"
   ]
  },
  {
   "cell_type": "code",
   "execution_count": 67,
   "metadata": {},
   "outputs": [
    {
     "data": {
      "text/plain": [
       "{'learning_rate': 0.02, 'max_depth': 2, 'n_estimators': 800}"
      ]
     },
     "execution_count": 67,
     "metadata": {},
     "output_type": "execute_result"
    }
   ],
   "source": [
    "from sklearn.model_selection import GridSearchCV\n",
    "\n",
    "num_estimators = [500,600, 1000,700,800]\n",
    "learn_rates = [0.01, 0.02, 0.05, 0.008, 0.007]\n",
    "max_depths = [4,6,3,5,2]\n",
    "param_grid = {'n_estimators': num_estimators, 'learning_rate': learn_rates, 'max_depth': max_depths}\n",
    "\n",
    "grid_search = GridSearchCV(GradientBoostingRegressor(min_samples_split=2, loss= 'ls'), param_grid, cv=3, return_train_score=True)\n",
    "grid_search.fit(X_train, y_train)\n",
    "\n",
    "#grid_search.best_params_ #{'learning_rate': 0.01, 'max_depth': 4, 'n_estimators': 700}"
   ]
  },
  {
   "cell_type": "markdown",
   "metadata": {},
   "source": [
    "--------------------------------------------------------------------------------------"
   ]
  },
  {
   "cell_type": "code",
   "execution_count": 11,
   "metadata": {},
   "outputs": [
    {
     "data": {
      "text/plain": [
       "GradientBoostingRegressor(alpha=0.9, criterion='friedman_mse', init=None,\n",
       "             learning_rate=0.008, loss='ls', max_depth=3,\n",
       "             max_features=None, max_leaf_nodes=None,\n",
       "             min_impurity_decrease=0.0, min_impurity_split=None,\n",
       "             min_samples_leaf=1, min_samples_split=2,\n",
       "             min_weight_fraction_leaf=0.0, n_estimators=700,\n",
       "             presort='auto', random_state=None, subsample=1.0, verbose=0,\n",
       "             warm_start=False)"
      ]
     },
     "execution_count": 11,
     "metadata": {},
     "output_type": "execute_result"
    }
   ],
   "source": [
    "from sklearn.ensemble import GradientBoostingRegressor\n",
    "\n",
    "params = {'n_estimators':700, 'max_depth':3, 'min_samples_split':2\n",
    "          , 'learning_rate': 0.008, 'loss': 'ls'}\n",
    "# no. of estimators = no. of boosting stages to use in our model, max_depth of every regression tree(very high tends to overfit\n",
    "# min_samples_split specifies the min mo. of sample before a node can split, here atleast 2 samples is required to split \n",
    "# existing node, loss calulation uses least squares regression)\n",
    "monthly_gbr_model = GradientBoostingRegressor(**params)\n",
    "monthly_gbr_model.fit(X_train, y_train) #700, 3, 2, 0.008"
   ]
  },
  {
   "cell_type": "code",
   "execution_count": 12,
   "metadata": {},
   "outputs": [
    {
     "data": {
      "text/plain": [
       "0.8371931367310488"
      ]
     },
     "execution_count": 12,
     "metadata": {},
     "output_type": "execute_result"
    }
   ],
   "source": [
    "monthly_gbr_model.score(X_train, y_train) #0.7195544422323222"
   ]
  },
  {
   "cell_type": "code",
   "execution_count": 13,
   "metadata": {},
   "outputs": [
    {
     "data": {
      "text/plain": [
       "0.6523737110205012"
      ]
     },
     "execution_count": 13,
     "metadata": {},
     "output_type": "execute_result"
    }
   ],
   "source": [
    "monthly_gbr_model.score(X_test, y_test) #0.5783383813660647"
   ]
  },
  {
   "cell_type": "code",
   "execution_count": 14,
   "metadata": {},
   "outputs": [
    {
     "data": {
      "text/html": [
       "<div>\n",
       "<style scoped>\n",
       "    .dataframe tbody tr th:only-of-type {\n",
       "        vertical-align: middle;\n",
       "    }\n",
       "\n",
       "    .dataframe tbody tr th {\n",
       "        vertical-align: top;\n",
       "    }\n",
       "\n",
       "    .dataframe thead th {\n",
       "        text-align: right;\n",
       "    }\n",
       "</style>\n",
       "<table border=\"1\" class=\"dataframe\">\n",
       "  <thead>\n",
       "    <tr style=\"text-align: right;\">\n",
       "      <th></th>\n",
       "      <th>Date</th>\n",
       "      <th>Market Area</th>\n",
       "      <th>Tonnes</th>\n",
       "      <th>Max_avg</th>\n",
       "      <th>Min_avg</th>\n",
       "    </tr>\n",
       "  </thead>\n",
       "  <tbody>\n",
       "    <tr>\n",
       "      <th>281</th>\n",
       "      <td>10</td>\n",
       "      <td>30</td>\n",
       "      <td>253.301887</td>\n",
       "      <td>1703.376600</td>\n",
       "      <td>1379.153607</td>\n",
       "    </tr>\n",
       "    <tr>\n",
       "      <th>274</th>\n",
       "      <td>3</td>\n",
       "      <td>30</td>\n",
       "      <td>290.448276</td>\n",
       "      <td>1703.376600</td>\n",
       "      <td>1379.153607</td>\n",
       "    </tr>\n",
       "    <tr>\n",
       "      <th>175</th>\n",
       "      <td>6</td>\n",
       "      <td>17</td>\n",
       "      <td>4.166667</td>\n",
       "      <td>1282.650171</td>\n",
       "      <td>1043.494398</td>\n",
       "    </tr>\n",
       "    <tr>\n",
       "      <th>295</th>\n",
       "      <td>0</td>\n",
       "      <td>32</td>\n",
       "      <td>7.655738</td>\n",
       "      <td>1759.482255</td>\n",
       "      <td>1421.193658</td>\n",
       "    </tr>\n",
       "    <tr>\n",
       "      <th>146</th>\n",
       "      <td>6</td>\n",
       "      <td>13</td>\n",
       "      <td>41.200000</td>\n",
       "      <td>926.847724</td>\n",
       "      <td>757.938722</td>\n",
       "    </tr>\n",
       "  </tbody>\n",
       "</table>\n",
       "</div>"
      ],
      "text/plain": [
       "     Date  Market Area      Tonnes      Max_avg      Min_avg\n",
       "281    10           30  253.301887  1703.376600  1379.153607\n",
       "274     3           30  290.448276  1703.376600  1379.153607\n",
       "175     6           17    4.166667  1282.650171  1043.494398\n",
       "295     0           32    7.655738  1759.482255  1421.193658\n",
       "146     6           13   41.200000   926.847724   757.938722"
      ]
     },
     "execution_count": 14,
     "metadata": {},
     "output_type": "execute_result"
    }
   ],
   "source": [
    "X_train.head()"
   ]
  },
  {
   "cell_type": "code",
   "execution_count": 15,
   "metadata": {},
   "outputs": [
    {
     "data": {
      "text/html": [
       "<div>\n",
       "<style scoped>\n",
       "    .dataframe tbody tr th:only-of-type {\n",
       "        vertical-align: middle;\n",
       "    }\n",
       "\n",
       "    .dataframe tbody tr th {\n",
       "        vertical-align: top;\n",
       "    }\n",
       "\n",
       "    .dataframe thead th {\n",
       "        text-align: right;\n",
       "    }\n",
       "</style>\n",
       "<table border=\"1\" class=\"dataframe\">\n",
       "  <thead>\n",
       "    <tr style=\"text-align: right;\">\n",
       "      <th></th>\n",
       "      <th>Date</th>\n",
       "      <th>Market Area</th>\n",
       "      <th>Tonnes</th>\n",
       "      <th>Minimum Price(Rs./Quintal)</th>\n",
       "      <th>Maximum Price(Rs./Quintal)</th>\n",
       "      <th>Modal Price(Rs./Quintal)</th>\n",
       "      <th>Max_avg</th>\n",
       "      <th>Min_avg</th>\n",
       "    </tr>\n",
       "  </thead>\n",
       "  <tbody>\n",
       "    <tr>\n",
       "      <th>355</th>\n",
       "      <td>7</td>\n",
       "      <td>39</td>\n",
       "      <td>6.272727</td>\n",
       "      <td>968.181818</td>\n",
       "      <td>1204.545455</td>\n",
       "      <td>1086.363636</td>\n",
       "      <td>1810.361953</td>\n",
       "      <td>1553.000842</td>\n",
       "    </tr>\n",
       "    <tr>\n",
       "      <th>356</th>\n",
       "      <td>8</td>\n",
       "      <td>39</td>\n",
       "      <td>6.125000</td>\n",
       "      <td>1912.500000</td>\n",
       "      <td>2162.500000</td>\n",
       "      <td>2037.500000</td>\n",
       "      <td>1810.361953</td>\n",
       "      <td>1553.000842</td>\n",
       "    </tr>\n",
       "    <tr>\n",
       "      <th>357</th>\n",
       "      <td>9</td>\n",
       "      <td>39</td>\n",
       "      <td>6.000000</td>\n",
       "      <td>1510.000000</td>\n",
       "      <td>1790.000000</td>\n",
       "      <td>1650.000000</td>\n",
       "      <td>1810.361953</td>\n",
       "      <td>1553.000842</td>\n",
       "    </tr>\n",
       "    <tr>\n",
       "      <th>358</th>\n",
       "      <td>10</td>\n",
       "      <td>39</td>\n",
       "      <td>6.166667</td>\n",
       "      <td>983.333333</td>\n",
       "      <td>1250.000000</td>\n",
       "      <td>1116.666667</td>\n",
       "      <td>1810.361953</td>\n",
       "      <td>1553.000842</td>\n",
       "    </tr>\n",
       "    <tr>\n",
       "      <th>359</th>\n",
       "      <td>11</td>\n",
       "      <td>39</td>\n",
       "      <td>6.222222</td>\n",
       "      <td>977.777778</td>\n",
       "      <td>1322.222222</td>\n",
       "      <td>1200.000000</td>\n",
       "      <td>1810.361953</td>\n",
       "      <td>1553.000842</td>\n",
       "    </tr>\n",
       "  </tbody>\n",
       "</table>\n",
       "</div>"
      ],
      "text/plain": [
       "     Date  Market Area    Tonnes  Minimum Price(Rs./Quintal)  \\\n",
       "355     7           39  6.272727                  968.181818   \n",
       "356     8           39  6.125000                 1912.500000   \n",
       "357     9           39  6.000000                 1510.000000   \n",
       "358    10           39  6.166667                  983.333333   \n",
       "359    11           39  6.222222                  977.777778   \n",
       "\n",
       "     Maximum Price(Rs./Quintal)  Modal Price(Rs./Quintal)      Max_avg  \\\n",
       "355                 1204.545455               1086.363636  1810.361953   \n",
       "356                 2162.500000               2037.500000  1810.361953   \n",
       "357                 1790.000000               1650.000000  1810.361953   \n",
       "358                 1250.000000               1116.666667  1810.361953   \n",
       "359                 1322.222222               1200.000000  1810.361953   \n",
       "\n",
       "         Min_avg  \n",
       "355  1553.000842  \n",
       "356  1553.000842  \n",
       "357  1553.000842  \n",
       "358  1553.000842  \n",
       "359  1553.000842  "
      ]
     },
     "execution_count": 15,
     "metadata": {},
     "output_type": "execute_result"
    }
   ],
   "source": [
    "ml_tomato_data.tail()"
   ]
  },
  {
   "cell_type": "code",
   "execution_count": 16,
   "metadata": {},
   "outputs": [
    {
     "data": {
      "text/plain": [
       "array([[   7.   ,   39.   ,    6.272, 1810.36 , 1553.   ]])"
      ]
     },
     "execution_count": 16,
     "metadata": {},
     "output_type": "execute_result"
    }
   ],
   "source": [
    "array = np.array([7,39,6.272,1810.36,1553])\n",
    "type(array)\n",
    "new_array = array.reshape(1,-1)\n",
    "new_array"
   ]
  },
  {
   "cell_type": "code",
   "execution_count": 17,
   "metadata": {},
   "outputs": [
    {
     "data": {
      "text/plain": [
       "array([1474.63139986])"
      ]
     },
     "execution_count": 17,
     "metadata": {},
     "output_type": "execute_result"
    }
   ],
   "source": [
    "monthly_gbr_model.predict(new_array)"
   ]
  },
  {
   "cell_type": "markdown",
   "metadata": {},
   "source": [
    "# Pickling model"
   ]
  },
  {
   "cell_type": "code",
   "execution_count": 18,
   "metadata": {},
   "outputs": [],
   "source": [
    "import pickle\n",
    "\n",
    "with open('monthly_gbr_model3.pkl', 'wb') as fid:\n",
    "    pickle.dump(monthly_gbr_model, fid,2)"
   ]
  },
  {
   "cell_type": "code",
   "execution_count": 25,
   "metadata": {},
   "outputs": [
    {
     "name": "stdout",
     "output_type": "stream",
     "text": [
      "Populating the interactive namespace from numpy and matplotlib\n"
     ]
    },
    {
     "data": {
      "image/png": "[encoded data removed]",
      "text/plain": [
       "<Figure size 1080x432 with 1 Axes>"
      ]
     },
     "metadata": {},
     "output_type": "display_data"
    }
   ],
   "source": [
    "y_predict = monthly_gbr_model.predict(X_test)\n",
    "\n",
    "%pylab inline\n",
    "pylab.rcParams['figure.figsize'] = (15,6)\n",
    "plt.plot(y_predict, 'bs', label='Predicted')\n",
    "plt.plot(y_test.values, 'r^', label='Actual')\n",
    "plt.ylabel('Prices')\n",
    "plt.xlabel('Test data points')\n",
    "plt.legend()\n",
    "plt.show()"
   ]
  },
  {
   "cell_type": "code",
   "execution_count": 20,
   "metadata": {},
   "outputs": [
    {
     "data": {
      "text/plain": [
       "0.6523737110205012"
      ]
     },
     "execution_count": 20,
     "metadata": {},
     "output_type": "execute_result"
    }
   ],
   "source": [
    "r_square = monthly_gbr_model.score(X_test, y_test)\n",
    "r_square"
   ]
  },
  {
   "cell_type": "code",
   "execution_count": 21,
   "metadata": {},
   "outputs": [
    {
     "data": {
      "text/plain": [
       "102235.03097445014"
      ]
     },
     "execution_count": 21,
     "metadata": {},
     "output_type": "execute_result"
    }
   ],
   "source": [
    "from sklearn.metrics import mean_squared_error\n",
    "\n",
    "monthly_gbr_model_mse = mean_squared_error(y_predict, y_test)\n",
    "monthly_gbr_model_mse"
   ]
  },
  {
   "cell_type": "code",
   "execution_count": 22,
   "metadata": {},
   "outputs": [
    {
     "data": {
      "text/plain": [
       "319.7421319977243"
      ]
     },
     "execution_count": 22,
     "metadata": {},
     "output_type": "execute_result"
    }
   ],
   "source": [
    "import math\n",
    "math.sqrt(monthly_gbr_model_mse)"
   ]
  },
  {
   "cell_type": "markdown",
   "metadata": {},
   "source": [
    "our model has an accuracy of 65% . The predicted prices are within +- 319 to actual prices"
   ]
  },
  {
   "cell_type": "code",
   "execution_count": 24,
   "metadata": {},
   "outputs": [
    {
     "name": "stdout",
     "output_type": "stream",
     "text": [
      "Populating the interactive namespace from numpy and matplotlib\n"
     ]
    },
    {
     "data": {
      "image/png": "[encoded data removed]",
      "text/plain": [
       "<Figure size 1080x432 with 1 Axes>"
      ]
     },
     "metadata": {},
     "output_type": "display_data"
    }
   ],
   "source": [
    "y_predict = monthly_gbr_model.predict(X_test)\n",
    "\n",
    "%pylab inline\n",
    "pylab.rcParams['figure.figsize'] = (15,6)\n",
    "plt.scatter(X_test[\"Market Area\"],y_predict, label='Predicted')\n",
    "plt.plot(X_test[\"Market Area\"],y_test.values, 'r^',label='Actual')\n",
    "plt.ylabel('prices')\n",
    "plt.xlabel('markets')\n",
    "plt.legend()\n",
    "plt.show()"
   ]
  },
  {
   "cell_type": "code",
   "execution_count": null,
   "metadata": {},
   "outputs": [],
   "source": []
  }
 ],
 "metadata": {
  "kernelspec": {
   "display_name": "Python 3",
   "language": "python",
   "name": "python3"
  },
  "language_info": {
   "codemirror_mode": {
    "name": "ipython",
    "version": 3
   },
   "file_extension": ".py",
   "mimetype": "text/x-python",
   "name": "python",
   "nbconvert_exporter": "python",
   "pygments_lexer": "ipython3",
   "version": "3.6.5"
  }
 },
 "nbformat": 4,
 "nbformat_minor": 2
}
